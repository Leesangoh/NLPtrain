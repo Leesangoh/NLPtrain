{
 "cells": [
  {
   "cell_type": "markdown",
   "metadata": {},
   "source": [
    "# 2.5 Automatic Differentiation\n",
    "## 2.5.1 A Simple Function"
   ]
  },
  {
   "cell_type": "code",
   "execution_count": 6,
   "metadata": {},
   "outputs": [
    {
     "name": "stdout",
     "output_type": "stream",
     "text": [
      "x:  tensor([0., 1., 2., 3.])\n",
      "x.grad:  None\n",
      "y:  tensor(28., grad_fn=<MulBackward0>)\n",
      "x.grad:  tensor([ 0.,  4.,  8., 12.])\n",
      "x.grad:  tensor([1., 1., 1., 1.])\n"
     ]
    }
   ],
   "source": [
    "import torch\n",
    "\n",
    "x = torch.arange(4.0)\n",
    "print(\"x: \", x)\n",
    "\n",
    "x.requires_grad_(True)\n",
    "print(\"x.grad: \", x.grad)\n",
    "\n",
    "y = 2 * torch.dot(x, x) # y = 2 * xT * x\n",
    "print(\"y: \", y)\n",
    "y.backward()\n",
    "print(\"x.grad: \", x.grad) # x.grad = dy/dx = 4x\n",
    "\n",
    "x.grad.zero_() # reset x.grad to zero\n",
    "y = x.sum()\n",
    "y.backward()\n",
    "print(\"x.grad: \", x.grad) # x.grad = dy/dx = 1"
   ]
  },
  {
   "cell_type": "markdown",
   "metadata": {},
   "source": [
    "## 2.5.2 Backward for Non-Scalar Variables"
   ]
  },
  {
   "cell_type": "code",
   "execution_count": 13,
   "metadata": {},
   "outputs": [
    {
     "name": "stdout",
     "output_type": "stream",
     "text": [
      "y:  tensor([0., 1., 4., 9.], grad_fn=<MulBackward0>)\n",
      "x.grad:  tensor([0., 2., 4., 6.])\n"
     ]
    }
   ],
   "source": [
    "x.grad.zero_()\n",
    "y = x * x\n",
    "print(\"y: \", y)\n",
    "y.backward(gradient=torch.ones(len(y))) # faster way: y.sum().backward()\n",
    "print(\"x.grad: \", x.grad)"
   ]
  },
  {
   "cell_type": "markdown",
   "metadata": {},
   "source": [
    "## 2.5.3 Detaching Computation"
   ]
  },
  {
   "cell_type": "code",
   "execution_count": 15,
   "metadata": {},
   "outputs": [
    {
     "name": "stdout",
     "output_type": "stream",
     "text": [
      "x.grad:  tensor([0., 1., 4., 9.])\n"
     ]
    }
   ],
   "source": [
    "x.grad.zero_()\n",
    "y = x * x\n",
    "u = y.detach()\n",
    "z = u * x\n",
    "\n",
    "z.sum().backward()\n",
    "print(\"x.grad: \", x.grad) # x.grad = dz/dx = d/dz (u * x) = u (do not flow back to x)"
   ]
  },
  {
   "cell_type": "markdown",
   "metadata": {},
   "source": [
    "## 2.5.4 Gradients and Python Control Flow"
   ]
  },
  {
   "cell_type": "code",
   "execution_count": 24,
   "metadata": {},
   "outputs": [
    {
     "name": "stdout",
     "output_type": "stream",
     "text": [
      "a:  tensor(-0.1513, requires_grad=True)\n",
      "d:  tensor(-123972.5078, grad_fn=<MulBackward0>)\n",
      "a.grad:  tensor(819200.)\n"
     ]
    }
   ],
   "source": [
    "def f(a):\n",
    "    b = a * 2\n",
    "    while b.norm() < 1000:\n",
    "        b = b * 2\n",
    "    if b.sum() > 0:\n",
    "        c = b\n",
    "    else:\n",
    "        c = 100 * b\n",
    "    return c\n",
    "\n",
    "a = torch.randn(size=(), requires_grad=True)\n",
    "d = f(a)\n",
    "print(\"a: \", a)\n",
    "print(\"d: \", d)\n",
    "d.backward()\n",
    "print(\"a.grad: \", a.grad) # a.grad = dd/da"
   ]
  }
 ],
 "metadata": {
  "kernelspec": {
   "display_name": "dive2dl",
   "language": "python",
   "name": "python3"
  },
  "language_info": {
   "codemirror_mode": {
    "name": "ipython",
    "version": 3
   },
   "file_extension": ".py",
   "mimetype": "text/x-python",
   "name": "python",
   "nbconvert_exporter": "python",
   "pygments_lexer": "ipython3",
   "version": "3.7.16"
  }
 },
 "nbformat": 4,
 "nbformat_minor": 2
}
