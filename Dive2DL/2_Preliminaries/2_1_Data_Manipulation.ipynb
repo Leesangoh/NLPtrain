{
 "cells": [
  {
   "cell_type": "markdown",
   "metadata": {},
   "source": [
    "# 2.1 Data Manipulation\n",
    "\n",
    "## 2.1.1 Getting Started"
   ]
  },
  {
   "cell_type": "code",
   "execution_count": null,
   "metadata": {},
   "outputs": [],
   "source": [
    "import torch\n",
    "x = torch.arange(12, dtype=torch.float32)\n",
    "print(\"x:\", x)\n",
    "print(\"x.numel():\", x.numel())\n",
    "print(\"x.shape:\", x.shape)\n",
    "\n",
    "X = x.reshape(3, 4)\n",
    "print(\"X = reshape(3, 4):\", X)\n",
    "print(\"torch.zeros((2, 3, 4)):\", torch.zeros((2, 3, 4)))\n",
    "print(\"torch.ones((2, 3, 4)):\", torch.ones((2, 3, 4)))\n",
    "print(\"torch.randn(3, 4):\", torch.randn(3, 4))\n",
    "print(\"torch.tensor([[2, 1, 4, 3], [1, 2, 3, 4], [4, 3, 2, 1]]): \", torch.tensor([[2, 1, 4, 3], [1, 2, 3, 4], [4, 3, 2, 1]]))"
   ]
  },
  {
   "cell_type": "markdown",
   "metadata": {},
   "source": [
    "## 2.1.2 Indexing and Slicing"
   ]
  },
  {
   "cell_type": "code",
   "execution_count": null,
   "metadata": {},
   "outputs": [],
   "source": [
    "print(\"X[-1], X[1:3]:\", X[-1], X[1:3])\n",
    "\n",
    "X[1, 2] = 17\n",
    "print(\"X[1, 2] = 17:\", X)\n",
    "\n",
    "X[:2, :] = 12\n",
    "print(\"X[:2, :] = 12:\", X)"
   ]
  },
  {
   "cell_type": "markdown",
   "metadata": {},
   "source": [
    "## 2.1.3 Operations"
   ]
  },
  {
   "cell_type": "code",
   "execution_count": null,
   "metadata": {},
   "outputs": [],
   "source": [
    "x = torch.tensor([1.0, 2, 4, 8])\n",
    "y = torch.tensor([2, 2, 2, 2])\n",
    "print(\"x:\", x)\n",
    "print(\"y:\", y)\n",
    "print(\"x + y:\", x + y)\n",
    "print(\"x - y:\", x - y)\n",
    "print(\"x * y:\", x * y)\n",
    "print(\"x / y:\", x / y)\n",
    "print(\"x**y:\", x**y)\n",
    "\n",
    "X = torch.arange(12, dtype=torch.float32).reshape((3, 4))\n",
    "Y = torch.tensor([[2.0, 1, 4, 3], [1, 2, 3, 4], [4, 3, 2, 1]])\n",
    "print(\"X:\", X)\n",
    "print(\"Y:\", Y)\n",
    "print(\"torch.cat((X, Y), dim=0):\", torch.cat((X, Y), dim=0))\n",
    "print(\"torch.cat((X, Y), dim=1):\", torch.cat((X, Y), dim=1))\n",
    "\n",
    "print(\"X ==Y:\", X == Y)\n",
    "print(\"X.sum():\", X.sum())"
   ]
  },
  {
   "cell_type": "markdown",
   "metadata": {},
   "source": [
    "## 2.1.4 Broadcasting"
   ]
  },
  {
   "cell_type": "code",
   "execution_count": null,
   "metadata": {},
   "outputs": [],
   "source": [
    "a = torch.arange(3).reshape((3, 1))\n",
    "b = torch.arange(2).reshape((1, 2))\n",
    "\n",
    "print(\"a:\", a)\n",
    "print(\"b:\", b)\n",
    "print(\"a + b:\", a + b)"
   ]
  },
  {
   "cell_type": "markdown",
   "metadata": {},
   "source": [
    "## 2.1.5 Saving Memory"
   ]
  },
  {
   "cell_type": "code",
   "execution_count": null,
   "metadata": {},
   "outputs": [],
   "source": [
    "print(\"2.1.5 Saving Memory\")\n",
    "\n",
    "before = id(Y)\n",
    "Y = Y + X\n",
    "print(\"id(Y) == before:\", id(Y) == before)\n",
    "\n",
    "Z = torch.zeros_like(Y)\n",
    "print(\"id(Z):\", id(Z))\n",
    "Z[:] = X + Y\n",
    "print(\"id(Z):\", id(Z))\n",
    "\n",
    "before = id(X)\n",
    "X += Y\n",
    "print(\"id(X) == before:\", id(X) == before)"
   ]
  },
  {
   "cell_type": "markdown",
   "metadata": {},
   "source": [
    "## 2.1.6 Conversion to Other Python Objects"
   ]
  },
  {
   "cell_type": "code",
   "execution_count": null,
   "metadata": {},
   "outputs": [],
   "source": [
    "A = X.numpy()\n",
    "B = torch.from_numpy(A)\n",
    "print(\"type(A):\", type(A))\n",
    "print(\"type(B):\", type(B))\n",
    "\n",
    "a = torch.tensor([3.5])\n",
    "print(\"a:\", a)\n",
    "print(\"a.item():\", a.item())\n",
    "print(\"float(a):\", float(a))\n",
    "print(\"int(a):\", int(a))"
   ]
  }
 ],
 "metadata": {
  "kernelspec": {
   "display_name": "dive2dl",
   "language": "python",
   "name": "python3"
  },
  "language_info": {
   "codemirror_mode": {
    "name": "ipython",
    "version": 3
   },
   "file_extension": ".py",
   "mimetype": "text/x-python",
   "name": "python",
   "nbconvert_exporter": "python",
   "pygments_lexer": "ipython3",
   "version": "3.7.12"
  }
 },
 "nbformat": 4,
 "nbformat_minor": 2
}
