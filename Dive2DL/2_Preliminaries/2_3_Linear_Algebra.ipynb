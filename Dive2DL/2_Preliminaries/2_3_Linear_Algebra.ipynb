{
 "cells": [
  {
   "cell_type": "markdown",
   "metadata": {},
   "source": [
    "# 2.3 Linear Algebra\n",
    "## 2.3.1 Scalars"
   ]
  },
  {
   "cell_type": "code",
   "execution_count": null,
   "metadata": {},
   "outputs": [],
   "source": [
    "import torch\n",
    "\n",
    "x = torch.tensor(3.0)\n",
    "y = torch.tensor(2.0)\n",
    "\n",
    "print(\"x + y:\", x + y)\n",
    "print(\"x * y:\", x * y)\n",
    "print(\"x / y:\", x / y)\n",
    "print(\"x**y:\", x**y)"
   ]
  },
  {
   "cell_type": "markdown",
   "metadata": {},
   "source": [
    "## 2.3.2 Vectors"
   ]
  },
  {
   "cell_type": "code",
   "execution_count": null,
   "metadata": {},
   "outputs": [],
   "source": [
    "x = torch.arange(3)\n",
    "print(\"x:\", x)\n",
    "\n",
    "print(\"x[2]: \", x[2])\n",
    "print(\"len(x): \", len(x))\n",
    "print(\"x.shape: \", x.shape)"
   ]
  },
  {
   "cell_type": "markdown",
   "metadata": {},
   "source": [
    "## 2.3.3 Matrices"
   ]
  },
  {
   "cell_type": "code",
   "execution_count": null,
   "metadata": {},
   "outputs": [],
   "source": [
    "A = torch.arange(6).reshape(3, 2)\n",
    "print(\"A:\", A)\n",
    "print(\"A.T: \", A.T)\n",
    "\n",
    "A = torch.tensor([[1, 2, 3], [2, 0, 4], [3, 4, 5]])\n",
    "print(\"A:\", A)\n",
    "print(\"A == A.T: \", A == A.T)"
   ]
  },
  {
   "cell_type": "markdown",
   "metadata": {},
   "source": [
    "## 2.3.4 Tensors"
   ]
  },
  {
   "cell_type": "code",
   "execution_count": null,
   "metadata": {},
   "outputs": [],
   "source": [
    "print(\"torch.arange(24).reshape(2, 3, 4):\", torch.arange(24).reshape(2, 3, 4))"
   ]
  },
  {
   "cell_type": "markdown",
   "metadata": {},
   "source": [
    "## 2.3.5 Basic Properties of Tensor Arithmetic"
   ]
  },
  {
   "cell_type": "code",
   "execution_count": null,
   "metadata": {},
   "outputs": [],
   "source": [
    "A = torch.arange(6, dtype=torch.float32).reshape(2, 3)\n",
    "B = A.clone()\n",
    "print(\"A: \", A)\n",
    "print(\"A + B: \", A + B)\n",
    "print(\"A * B: \", A * B)\n",
    "\n",
    "a = 2\n",
    "X = torch.arange(24).reshape(2, 3, 4)\n",
    "print(\"a + X: \", a + X)\n",
    "print(\"(a * X).shape: \", (a * X).shape)"
   ]
  },
  {
   "cell_type": "markdown",
   "metadata": {},
   "source": [
    "## 2.3.6 Reduction"
   ]
  },
  {
   "cell_type": "code",
   "execution_count": null,
   "metadata": {},
   "outputs": [],
   "source": [
    "x = torch.arange(3, dtype=torch.float32)\n",
    "print(\"x: \", x)\n",
    "print(\"x.sum(): \", x.sum())\n",
    "\n",
    "print(\"A.shape: \", A.shape)\n",
    "print(\"A.sum(): \", A.sum())\n",
    "\n",
    "print(\"A.sum(axis=0): \", A.sum(axis=0))\n",
    "print(\"A.sum(axis=1): \", A.sum(axis=1))\n",
    "print(\"A.sum(axis = [0, 1]): \", A.sum(axis = [0, 1]))"
   ]
  },
  {
   "cell_type": "markdown",
   "metadata": {},
   "source": [
    "## 2.3.8 Dot Products"
   ]
  },
  {
   "cell_type": "code",
   "execution_count": null,
   "metadata": {},
   "outputs": [],
   "source": [
    "y = torch.ones(3, dtype=torch.float32)\n",
    "print(\"x: \", x)\n",
    "print(\"y: \", y)\n",
    "print(\"torch.dot(x, y): \", torch.dot(x, y))"
   ]
  },
  {
   "cell_type": "markdown",
   "metadata": {},
   "source": [
    "## 2.3.9 Matrix-Vector Products"
   ]
  },
  {
   "cell_type": "code",
   "execution_count": null,
   "metadata": {},
   "outputs": [],
   "source": [
    "print(\"A.shape: \", A.shape)\n",
    "print(\"x.shape: \", x.shape)\n",
    "print(\"torch.mv(A, x): \", torch.mv(A, x))\n",
    "print(\"A @ x: \", A @ x)"
   ]
  },
  {
   "cell_type": "markdown",
   "metadata": {},
   "source": [
    "## 2.3.10 Matrix-Matrix Multiplication"
   ]
  },
  {
   "cell_type": "code",
   "execution_count": null,
   "metadata": {},
   "outputs": [],
   "source": [
    "B = torch.ones(3, 4)\n",
    "print(\"torch.mm(A, B): \", torch.mm(A, B))"
   ]
  },
  {
   "cell_type": "markdown",
   "metadata": {},
   "source": [
    "## 2.3.11 Norms"
   ]
  },
  {
   "cell_type": "code",
   "execution_count": null,
   "metadata": {},
   "outputs": [],
   "source": [
    "u = torch.tensor([3.0, -4.0])\n",
    "print(\"torch.norm(u): \", torch.norm(u))\n",
    "print(\"torch.abs(u).sum(): \", torch.abs(u).sum())\n",
    "print(\"torch.norm(torch.ones(4, 9)): \", torch.norm(torch.ones(4, 9))) # Frobenius norm"
   ]
  }
 ],
 "metadata": {
  "kernelspec": {
   "display_name": "dive2dl",
   "language": "python",
   "name": "python3"
  },
  "language_info": {
   "name": "python",
   "version": "3.7.16"
  }
 },
 "nbformat": 4,
 "nbformat_minor": 2
}
